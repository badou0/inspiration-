{
  "nbformat": 4,
  "nbformat_minor": 0,
  "metadata": {
    "colab": {
      "name": "Alieu-Badou-work",
      "provenance": [],
      "private_outputs": true,
      "collapsed_sections": [],
      "toc_visible": true
    },
    "kernelspec": {
      "display_name": "Python 3",
      "name": "python3"
    },
    "language_info": {
      "codemirror_mode": {
        "name": "ipython",
        "version": 3
      },
      "file_extension": ".py",
      "mimetype": "text/x-python",
      "name": "python",
      "nbconvert_exporter": "python",
      "pygments_lexer": "ipython3",
      "version": "3.5.2"
    },
    "accelerator": "GPU"
  },
  "cells": [
    {
      "cell_type": "markdown",
      "metadata": {
        "id": "G4tiQ2Cyusty",
        "colab_type": "text"
      },
      "source": [
        "## In this study, we implemented three different models, retro-causal (lstm stateful = true and stateful=false), causal (lstm stateful = true and stateful = false), and causal-retro-causal (lstm bi-direction) using tensor flow 2.x with keras to predict the future prices of the Chicago Copper May 20 (HGK20.CMX) dataset. The dataset contains 1162 enteries and six columns. We used the column labelled close as our predictive variables to make our predictions. After the implementation of the three models and compared their performances, we realised that the causal-retro-causal (lstm bi-directional) outperformed the others, and then, the causal model showing that the retro-causal has the poorest performance here. Therefore, we can conclude that causal-retro-causal (bi-direction) parameter choice model perform better in time series forecasting since it includes the information flows in both causal and retro-causal models. "
      ]
    },
    {
      "cell_type": "code",
      "metadata": {
        "colab_type": "code",
        "id": "TgPcBFru0E1z",
        "colab": {}
      },
      "source": [
        "import pandas as pd\n",
        "import numpy as np\n",
        "import matplotlib.pyplot as plt\n",
        "%matplotlib inline\n",
        "try:\n",
        "  # %tensorflow_version only exists in Colab.\n",
        "  %tensorflow_version 2.x\n",
        "except Exception:\n",
        "  pass\n",
        "import tensorflow as tf\n",
        "\n",
        "from tensorflow.keras import layers"
      ],
      "execution_count": 0,
      "outputs": []
    },
    {
      "cell_type": "code",
      "metadata": {
        "id": "vZ6grZTPAMdW",
        "colab_type": "code",
        "colab": {}
      },
      "source": [
        "from sklearn.preprocessing import StandardScaler\n",
        "from keras.models import Sequential\n",
        "from keras import metrics\n",
        "from keras.layers import Dense, Dropout, LSTM\n",
        "from sklearn.preprocessing import MinMaxScaler\n",
        "import math\n",
        "from sklearn.metrics import mean_squared_error, mean_absolute_error\n",
        "from tensorflow.keras import regularizers"
      ],
      "execution_count": 0,
      "outputs": []
    },
    {
      "cell_type": "code",
      "metadata": {
        "id": "J6aBdG1K-pzL",
        "colab_type": "code",
        "colab": {}
      },
      "source": [
        "# convert an array of values into a dataset matrix\n",
        "def create_dataset(dataset, look_back=12):\n",
        "\tdataX, dataY = [], []\n",
        "\tfor i in range(len(dataset)-look_back-1):\n",
        "\t\ta = dataset[i:(i+look_back), 0]\n",
        "\t\tdataX.append(a)\n",
        "\t\tdataY.append(dataset[i + look_back, 0])\n",
        "\treturn np.array(dataX), np.array(dataY)\n",
        "# fix random seed for reproducibility\n",
        "np.random.seed(7)\n",
        "# load the dataset\n",
        "dataframe = pd.read_csv('HGK20.CMX.csv', usecols=[1], engine='python')\n",
        "dataset = dataframe.values\n",
        "dataset = dataset.astype('float32')\n",
        "# normalize the dataset with min-max\n",
        "#sc = MinMaxScaler(feature_range=(0, 1))\n",
        "#data = sc.fit_transform(dataset)"
      ],
      "execution_count": 0,
      "outputs": []
    },
    {
      "cell_type": "code",
      "metadata": {
        "id": "03E-8g3P_gQT",
        "colab_type": "code",
        "colab": {}
      },
      "source": [
        "# normalise the dataset with standardisation\n",
        "sc = StandardScaler()\n",
        "data = sc.fit_transform(dataset)"
      ],
      "execution_count": 0,
      "outputs": []
    },
    {
      "cell_type": "code",
      "metadata": {
        "id": "oJTaeJ_6pqSJ",
        "colab_type": "code",
        "colab": {}
      },
      "source": [
        "# checking the structure of the dataset\n",
        "data"
      ],
      "execution_count": 0,
      "outputs": []
    },
    {
      "cell_type": "code",
      "metadata": {
        "id": "MemeHlKPCKDP",
        "colab_type": "code",
        "colab": {}
      },
      "source": [
        "# split into train and test sets\n",
        "train_size = int(len(data) * 0.7)\n",
        "test_size = len(data) - train_size\n",
        "train, test = data[0:train_size,:], data[train_size:len(data),:]"
      ],
      "execution_count": 0,
      "outputs": []
    },
    {
      "cell_type": "code",
      "metadata": {
        "id": "bMD6uXUwCKJF",
        "colab_type": "code",
        "colab": {}
      },
      "source": [
        "# reshape into X=t and Y=t+1\n",
        "look_back = 12\n",
        "X_train, y_train = create_dataset(train, look_back)\n",
        "X_test, Y_test = create_dataset(test, look_back)"
      ],
      "execution_count": 0,
      "outputs": []
    },
    {
      "cell_type": "code",
      "metadata": {
        "id": "DrdNI81HCKHD",
        "colab_type": "code",
        "colab": {}
      },
      "source": [
        "print(\"trainX shape: \",X_train.shape)\n",
        "print(\"trainY shape: \",y_train.shape)\n",
        "print(\"testX shape: \",X_test.shape)\n",
        "print(\"testY shape: \",Y_test.shape)"
      ],
      "execution_count": 0,
      "outputs": []
    },
    {
      "cell_type": "code",
      "metadata": {
        "id": "5NN8Vzx2CrUQ",
        "colab_type": "code",
        "colab": {}
      },
      "source": [
        "# reshape input to be [samples, time steps, features]\n",
        "X_train = np.reshape(X_train,(X_train.shape[0],X_train.shape[1],1))\n",
        "X_test = np.reshape(X_test,(X_test.shape[0], X_test.shape[1], 1))"
      ],
      "execution_count": 0,
      "outputs": []
    },
    {
      "cell_type": "code",
      "metadata": {
        "id": "7ExDhHgqCke5",
        "colab_type": "code",
        "colab": {}
      },
      "source": [
        "print(\"trainX shape: \",X_train.shape)\n",
        "print(\"trainY shape: \",y_train.shape)\n",
        "print(\"testX shape: \",X_test.shape)\n",
        "print(\"testY shape: \",Y_test.shape)"
      ],
      "execution_count": 0,
      "outputs": []
    },
    {
      "cell_type": "code",
      "metadata": {
        "id": "PEsKUVPphCTa",
        "colab_type": "code",
        "colab": {}
      },
      "source": [
        "tf.compat.v1.reset_default_graph()"
      ],
      "execution_count": 0,
      "outputs": []
    },
    {
      "cell_type": "markdown",
      "metadata": {
        "id": "gLYZ9emxuJGn",
        "colab_type": "text"
      },
      "source": [
        "## Causal (stateful = true) LSTM Model"
      ]
    },
    {
      "cell_type": "code",
      "metadata": {
        "id": "m7vGUpN3_yq2",
        "colab_type": "code",
        "colab": {}
      },
      "source": [
        "model_stateful = tf.keras.Sequential([\n",
        "tf.keras.layers.LSTM(64,  batch_input_shape=(1, 12, 1), stateful=True),\n",
        "tf.keras.layers.Dense(1)])"
      ],
      "execution_count": 0,
      "outputs": []
    },
    {
      "cell_type": "code",
      "metadata": {
        "id": "vG-jq4vh_yuK",
        "colab_type": "code",
        "colab": {}
      },
      "source": [
        "model_stateful.compile(loss = 'mean_squared_error', optimizer='adam')"
      ],
      "execution_count": 0,
      "outputs": []
    },
    {
      "cell_type": "code",
      "metadata": {
        "id": "VkDgPPxa_y1Y",
        "colab_type": "code",
        "colab": {}
      },
      "source": [
        "model_stateful.summary()"
      ],
      "execution_count": 0,
      "outputs": []
    },
    {
      "cell_type": "code",
      "metadata": {
        "id": "xp_gRSaqBjhz",
        "colab_type": "code",
        "colab": {}
      },
      "source": [
        "# training with the model\n",
        "history = model_stateful.fit(X_train, y_train, epochs=100, batch_size=1, verbose = 1, validation_data=(X_test, Y_test), shuffle=False)\n",
        "model_stateful.reset_states()"
      ],
      "execution_count": 0,
      "outputs": []
    },
    {
      "cell_type": "code",
      "metadata": {
        "id": "0Jbd2TNRFICC",
        "colab_type": "code",
        "colab": {}
      },
      "source": [
        "plt.figure(figsize=(10, 6))\n",
        "#plt.plot(history.history['val_loss'], color='red', label='validation loss')\n",
        "plt.plot(history.history['loss'], color='blue', label='train loss')\n",
        "plt.legend(fontsize=15)\n",
        "plt.title('Causal stateful = true Model Loss')\n",
        "plt.ylabel('Mean Squared Error')\n",
        "plt.xlabel('Epoch')\n",
        "plt.show()"
      ],
      "execution_count": 0,
      "outputs": []
    },
    {
      "cell_type": "code",
      "metadata": {
        "id": "cjTd3abd4QUC",
        "colab_type": "code",
        "colab": {}
      },
      "source": [
        "batch_size=1\n",
        "train_Score = model_stateful.evaluate(X_train, y_train, batch_size=batch_size, verbose=0)\n",
        "model_stateful.reset_states()\n",
        "train_Score = math.sqrt(train_Score)\n",
        "train_Score = sc.inverse_transform(np.array([[train_Score]]))"
      ],
      "execution_count": 0,
      "outputs": []
    },
    {
      "cell_type": "code",
      "metadata": {
        "id": "7klmGC-74Qgv",
        "colab_type": "code",
        "colab": {}
      },
      "source": [
        "test_Score = model_stateful.evaluate(X_test, Y_test, batch_size=1, verbose=0)\n",
        "model_stateful.reset_states()\n",
        "test_Score = math.sqrt(test_Score)\n",
        "test_Score = sc.inverse_transform(np.array([[test_Score]]))"
      ],
      "execution_count": 0,
      "outputs": []
    },
    {
      "cell_type": "code",
      "metadata": {
        "id": "3LonRwRI4Q0b",
        "colab_type": "code",
        "colab": {}
      },
      "source": [
        "print('This is the train_Score:',train_Score)\n",
        "print('This is the test_Score:', test_Score)"
      ],
      "execution_count": 0,
      "outputs": []
    },
    {
      "cell_type": "code",
      "metadata": {
        "id": "UEKHP3ghECHW",
        "colab_type": "code",
        "colab": {}
      },
      "source": [
        "train_Predict = model_stateful.predict(X_train, batch_size=1)\n",
        "test_Predict = model_stateful.predict(X_test, batch_size=1)"
      ],
      "execution_count": 0,
      "outputs": []
    },
    {
      "cell_type": "code",
      "metadata": {
        "id": "6s4PCLZ9EDUI",
        "colab_type": "code",
        "colab": {}
      },
      "source": [
        "mse = mean_squared_error(Y_test, test_Predict)\n",
        "RMSE = np.sqrt(mse)\n",
        "mae = mean_absolute_error(Y_test, test_Predict)"
      ],
      "execution_count": 0,
      "outputs": []
    },
    {
      "cell_type": "code",
      "metadata": {
        "id": "9_9HtpM-EJV7",
        "colab_type": "code",
        "colab": {}
      },
      "source": [
        "print('The Mean Squared Error is: ', mse)\n",
        "print\n",
        "print('The Root Mean Squared Error is :', RMSE)\n",
        "print\n",
        "print('The Mean Absolute Error is ', mae)"
      ],
      "execution_count": 0,
      "outputs": []
    },
    {
      "cell_type": "code",
      "metadata": {
        "id": "SF82t4kE-p9z",
        "colab_type": "code",
        "colab": {}
      },
      "source": [
        "test_Predict"
      ],
      "execution_count": 0,
      "outputs": []
    },
    {
      "cell_type": "code",
      "metadata": {
        "id": "DP6760DAEzCv",
        "colab_type": "code",
        "colab": {}
      },
      "source": [
        "# Shifting train predictions for plotting\n",
        "train_Plot = np.empty_like(data)\n",
        "train_Plot[:, :] = np.nan\n",
        "train_Plot[look_back:len(train_Predict)+look_back, :] = train_Predict"
      ],
      "execution_count": 0,
      "outputs": []
    },
    {
      "cell_type": "code",
      "metadata": {
        "id": "gDJES-HfE0i4",
        "colab_type": "code",
        "colab": {}
      },
      "source": [
        "# Shifting test predictions for plotting\n",
        "test_Plot = np.empty_like(data)\n",
        "test_Plot[:, :] = np.nan\n",
        "test_Plot[len(train_Predict)+(look_back*2)+1:len(data)-1, :] = test_Predict"
      ],
      "execution_count": 0,
      "outputs": []
    },
    {
      "cell_type": "code",
      "metadata": {
        "id": "N_zjE9iaE7FF",
        "colab_type": "code",
        "colab": {}
      },
      "source": [
        "plt.figure(figsize=(10, 6))\n",
        "plt.plot(Y_test, color='red', label='actual data')\n",
        "plt.plot(test_Predict, color='blue', label='test data')\n",
        "plt.xlabel('Time [Days]', fontsize=15)\n",
        "plt.ylabel('Stock Values', fontsize=15)\n",
        "plt.title(' Model Real values vs Prediction values', fontsize=15)\n",
        "plt.legend(fontsize=15)\n",
        "plt.show()"
      ],
      "execution_count": 0,
      "outputs": []
    },
    {
      "cell_type": "code",
      "metadata": {
        "id": "ZMQN02JDFAlB",
        "colab_type": "code",
        "colab": {}
      },
      "source": [
        "plt.figure(figsize=(10, 6))\n",
        "plt.plot(data, color='red', label='actual data')\n",
        "plt.plot(train_Plot, color='blue', linestyle=\"-\", label='train data')\n",
        "plt.plot(test_Plot, color='green', linestyle=\"-\", label='test data')\n",
        "plt.xlabel('Time [Days]', fontsize=15)\n",
        "plt.ylabel('Stock Values', fontsize=15)\n",
        "plt.title('Baseline Model Prediction on HGK20.CXM',fontsize=15)\n",
        "plt.legend(fontsize=15)\n",
        "plt.show()"
      ],
      "execution_count": 0,
      "outputs": []
    },
    {
      "cell_type": "code",
      "metadata": {
        "id": "Uf5MuFYRF8qo",
        "colab_type": "code",
        "colab": {}
      },
      "source": [
        ""
      ],
      "execution_count": 0,
      "outputs": []
    },
    {
      "cell_type": "code",
      "metadata": {
        "id": "vH0Sw4YDGZ4-",
        "colab_type": "code",
        "colab": {}
      },
      "source": [
        ""
      ],
      "execution_count": 0,
      "outputs": []
    },
    {
      "cell_type": "markdown",
      "metadata": {
        "id": "lHRWfgURt_rl",
        "colab_type": "text"
      },
      "source": [
        "## Causal (stateful = false) LSTM Model"
      ]
    },
    {
      "cell_type": "code",
      "metadata": {
        "id": "DWlhEL-OGZ9M",
        "colab_type": "code",
        "colab": {}
      },
      "source": [
        "model_stateless = tf.keras.Sequential([\n",
        "tf.keras.layers.LSTM(64, input_shape=(6, 1), stateful=False),\n",
        "tf.keras.layers.Dense(1)])"
      ],
      "execution_count": 0,
      "outputs": []
    },
    {
      "cell_type": "code",
      "metadata": {
        "id": "mq49_Ki-G1Kq",
        "colab_type": "code",
        "colab": {}
      },
      "source": [
        "model_stateless.compile(loss = 'mean_squared_error', optimizer='adam')\n",
        "model_stateless.summary()"
      ],
      "execution_count": 0,
      "outputs": []
    },
    {
      "cell_type": "code",
      "metadata": {
        "id": "KVaeLIWBHcop",
        "colab_type": "code",
        "colab": {}
      },
      "source": [
        "history = model_stateless.fit(X_train, y_train, epochs=100, batch_size=1, verbose = 1, validation_data=(X_test, Y_test), shuffle=False)"
      ],
      "execution_count": 0,
      "outputs": []
    },
    {
      "cell_type": "code",
      "metadata": {
        "id": "dpTsKzA3Hvgi",
        "colab_type": "code",
        "colab": {}
      },
      "source": [
        "plt.figure(figsize=(10, 6))\n",
        "plt.plot(history.history['loss'], color='blue', label='train loss')\n",
        "plt.title('Causal stateful = false Model Loss')\n",
        "plt.ylabel('Mean Squared Error')\n",
        "plt.xlabel('Epoch')\n",
        "plt.show()"
      ],
      "execution_count": 0,
      "outputs": []
    },
    {
      "cell_type": "code",
      "metadata": {
        "id": "ToHrLOFY4lJB",
        "colab_type": "code",
        "colab": {}
      },
      "source": [
        "batch_size=1\n",
        "train_Score = model_stateless.evaluate(X_train, y_train, batch_size=batch_size, verbose=0)\n",
        "model_stateless.reset_states()\n",
        "train_Score = math.sqrt(train_Score)\n",
        "train_Score = sc.inverse_transform(np.array([[train_Score]]))"
      ],
      "execution_count": 0,
      "outputs": []
    },
    {
      "cell_type": "code",
      "metadata": {
        "id": "H1fuWjjc4lYm",
        "colab_type": "code",
        "colab": {}
      },
      "source": [
        "test_Score = model_stateless.evaluate(X_test, Y_test, batch_size=batch_size, verbose=0)\n",
        "model_stateless.reset_states()\n",
        "test_Score = math.sqrt(test_Score)\n",
        "test_Score = sc.inverse_transform(np.array([[test_Score]]))"
      ],
      "execution_count": 0,
      "outputs": []
    },
    {
      "cell_type": "code",
      "metadata": {
        "id": "vH2lAQUU4ljB",
        "colab_type": "code",
        "colab": {}
      },
      "source": [
        "print('This is the train_Score:',train_Score)\n",
        "print('This is the test_Score:', test_Score)"
      ],
      "execution_count": 0,
      "outputs": []
    },
    {
      "cell_type": "code",
      "metadata": {
        "id": "jlrOyizhILbx",
        "colab_type": "code",
        "colab": {}
      },
      "source": [
        "# generate predictions for training and testing\n",
        "train_Predict1 = model_stateless.predict(X_train, batch_size=1)\n",
        "test_Predict1 = model_stateless.predict(X_test, batch_size=1)"
      ],
      "execution_count": 0,
      "outputs": []
    },
    {
      "cell_type": "code",
      "metadata": {
        "id": "8Q33Kh2pIdRc",
        "colab_type": "code",
        "colab": {}
      },
      "source": [
        "mse = mean_squared_error(Y_test, test_Predict1)\n",
        "RMSE = np.sqrt(mse)\n",
        "mae = mean_absolute_error(Y_test, test_Predict1)\n"
      ],
      "execution_count": 0,
      "outputs": []
    },
    {
      "cell_type": "code",
      "metadata": {
        "id": "MAPWezz6IojP",
        "colab_type": "code",
        "colab": {}
      },
      "source": [
        "print('The Mean Squared Error is: ', mse)\n",
        "print\n",
        "print('The Root Mean Squared Error is :', RMSE)\n",
        "print\n",
        "print('The Mean Absolute Error is ', mae)"
      ],
      "execution_count": 0,
      "outputs": []
    },
    {
      "cell_type": "code",
      "metadata": {
        "id": "Dufa34Ui-k3T",
        "colab_type": "code",
        "colab": {}
      },
      "source": [
        "test_Predict1"
      ],
      "execution_count": 0,
      "outputs": []
    },
    {
      "cell_type": "code",
      "metadata": {
        "id": "Y0OZh7DiIss-",
        "colab_type": "code",
        "colab": {}
      },
      "source": [
        "# Shifting train predictions for plotting\n",
        "train_Plot_1 = np.empty_like(data)\n",
        "train_Plot_1[:, :] = np.nan\n",
        "train_Plot_1[look_back:len(train_Predict1)+look_back, :] = train_Predict1"
      ],
      "execution_count": 0,
      "outputs": []
    },
    {
      "cell_type": "code",
      "metadata": {
        "id": "oV3epS8QI20k",
        "colab_type": "code",
        "colab": {}
      },
      "source": [
        "# Shifting test predictions for plotting\n",
        "test_Plot_1 = np.empty_like(data)\n",
        "test_Plot_1[:, :] = np.nan\n",
        "test_Plot_1[len(train_Predict1)+(look_back*2)+1:len(data)-1, :] = test_Predict1"
      ],
      "execution_count": 0,
      "outputs": []
    },
    {
      "cell_type": "code",
      "metadata": {
        "id": "X_ybFSvdI62W",
        "colab_type": "code",
        "colab": {}
      },
      "source": [
        "plt.figure(figsize=(10, 6))\n",
        "plt.plot(data, color='red', label='actual data')\n",
        "plt.plot(train_Plot_1, color='blue', linestyle=\"-\", label='train data')\n",
        "plt.plot(test_Plot_1, color='green', linestyle=\"-\", label='test data')\n",
        "plt.xlabel('Time [Days]', fontsize=15)\n",
        "plt.ylabel('Stock Values', fontsize=15)\n",
        "plt.title('Baseline Model Predictions on HGK20.CXM', fontsize=15)\n",
        "plt.legend(fontsize=15)\n",
        "plt.show()"
      ],
      "execution_count": 0,
      "outputs": []
    },
    {
      "cell_type": "code",
      "metadata": {
        "id": "FT2oojGgI_c8",
        "colab_type": "code",
        "colab": {}
      },
      "source": [
        "plt.figure(figsize=(10, 6))\n",
        "plt.plot(Y_test, color='red', label='actual data')\n",
        "plt.plot(test_Predict1, color='blue', label='test data')\n",
        "plt.xlabel('Time [Days]', fontsize=15)\n",
        "plt.ylabel('Stock Values', fontsize=15)\n",
        "plt.title('Real values vs Prediction values', fontsize=15)\n",
        "plt.legend(fontsize=15)\n",
        "plt.show()"
      ],
      "execution_count": 0,
      "outputs": []
    },
    {
      "cell_type": "code",
      "metadata": {
        "id": "A9L0m1XaJH9Q",
        "colab_type": "code",
        "colab": {}
      },
      "source": [
        ""
      ],
      "execution_count": 0,
      "outputs": []
    },
    {
      "cell_type": "code",
      "metadata": {
        "id": "vk77B8geb-FH",
        "colab_type": "code",
        "colab": {}
      },
      "source": [
        ""
      ],
      "execution_count": 0,
      "outputs": []
    },
    {
      "cell_type": "markdown",
      "metadata": {
        "id": "miRW6Ec-5wbv",
        "colab_type": "text"
      },
      "source": [
        "## Retro-causal (stateful = true) Model"
      ]
    },
    {
      "cell_type": "code",
      "metadata": {
        "id": "ZJYYSdcfb-YW",
        "colab_type": "code",
        "colab": {}
      },
      "source": [
        "model_stateful1 = tf.keras.Sequential([\n",
        "tf.keras.layers.LSTM(64,  batch_input_shape=(1, 12, 1), go_backwards=True, stateful=True),\n",
        "tf.keras.layers.Dense(1)])"
      ],
      "execution_count": 0,
      "outputs": []
    },
    {
      "cell_type": "code",
      "metadata": {
        "id": "ZhYaP2knb-md",
        "colab_type": "code",
        "colab": {}
      },
      "source": [
        "model_stateful1.compile(loss = 'mean_squared_error', optimizer='adam')\n",
        "model_stateful1.summary()"
      ],
      "execution_count": 0,
      "outputs": []
    },
    {
      "cell_type": "code",
      "metadata": {
        "id": "RRjYrftDb-zk",
        "colab_type": "code",
        "colab": {}
      },
      "source": [
        "history = model_stateful1.fit(X_train, y_train, epochs=100, batch_size=1, verbose = 1, validation_data=(X_test, Y_test), shuffle=False)\n",
        "model_stateful1.reset_states()"
      ],
      "execution_count": 0,
      "outputs": []
    },
    {
      "cell_type": "code",
      "metadata": {
        "id": "oxuP60_ZcARO",
        "colab_type": "code",
        "colab": {}
      },
      "source": [
        "batch_size=1\n",
        "train_Score = model_stateful1.evaluate(X_train, y_train, batch_size=batch_size, verbose=1)\n",
        "model_stateful1.reset_states()\n",
        "train_Score = math.sqrt(train_Score)\n",
        "train_Score = sc.inverse_transform(np.array([[train_Score]]))"
      ],
      "execution_count": 0,
      "outputs": []
    },
    {
      "cell_type": "code",
      "metadata": {
        "id": "2VNcDqM4cAZV",
        "colab_type": "code",
        "colab": {}
      },
      "source": [
        "test_Score = model_stateful1.evaluate(X_test, Y_test, batch_size=1, verbose=1)\n",
        "model_stateful1.reset_states()\n",
        "test_Score = math.sqrt(test_Score)\n",
        "test_Score = sc.inverse_transform(np.array([[test_Score]]))"
      ],
      "execution_count": 0,
      "outputs": []
    },
    {
      "cell_type": "code",
      "metadata": {
        "id": "eBIsKkKocAew",
        "colab_type": "code",
        "colab": {}
      },
      "source": [
        "print('This is the train_Score:',train_Score)\n",
        "print('This is the test_Score:', test_Score)"
      ],
      "execution_count": 0,
      "outputs": []
    },
    {
      "cell_type": "code",
      "metadata": {
        "id": "SS2yPYYZcPS3",
        "colab_type": "code",
        "colab": {}
      },
      "source": [
        "train_Predicts = model_stateful1.predict(X_train, batch_size=1)\n",
        "test_Predicts = model_stateful1.predict(X_test, batch_size=1)"
      ],
      "execution_count": 0,
      "outputs": []
    },
    {
      "cell_type": "code",
      "metadata": {
        "id": "TdCoCuMDcPYQ",
        "colab_type": "code",
        "colab": {}
      },
      "source": [
        "mse = mean_squared_error(Y_test, test_Predicts)\n",
        "RMSE = np.sqrt(mse)\n",
        "mae = mean_absolute_error(Y_test, test_Predicts)\n",
        "\n",
        "print('The Mean Squared Error is: ', mse)\n",
        "print('The Root Mean Squared Error is :', RMSE)\n",
        "print('The Mean Absolute Error is ', mae)"
      ],
      "execution_count": 0,
      "outputs": []
    },
    {
      "cell_type": "code",
      "metadata": {
        "id": "jN5ZfIxY-d3z",
        "colab_type": "code",
        "colab": {}
      },
      "source": [
        "test_Predicts"
      ],
      "execution_count": 0,
      "outputs": []
    },
    {
      "cell_type": "code",
      "metadata": {
        "id": "cJHp0sUZcPoF",
        "colab_type": "code",
        "colab": {}
      },
      "source": [
        "# Shifting train predictions for plotting\n",
        "train_Plots = np.empty_like(data)\n",
        "train_Plots[:, :] = np.nan\n",
        "train_Plots[look_back:len(train_Predicts)+look_back, :] = train_Predicts"
      ],
      "execution_count": 0,
      "outputs": []
    },
    {
      "cell_type": "code",
      "metadata": {
        "id": "2_6HcjBWcQt3",
        "colab_type": "code",
        "colab": {}
      },
      "source": [
        "# Shifting test predictions for plotting\n",
        "test_Plots = np.empty_like(data)\n",
        "test_Plots[:, :] = np.nan\n",
        "test_Plots[len(train_Predicts)+(look_back*2)+1:len(data)-1, :] = test_Predicts"
      ],
      "execution_count": 0,
      "outputs": []
    },
    {
      "cell_type": "code",
      "metadata": {
        "id": "iCZ19LskcQLP",
        "colab_type": "code",
        "colab": {}
      },
      "source": [
        "plt.figure(figsize=(10, 6))\n",
        "plt.plot(data, color='red', label='actual data')\n",
        "plt.plot(train_Plots, color='blue', linestyle=\"-\", label='train data')\n",
        "plt.plot(test_Plots, color='green', linestyle=\"-\", label='test data')\n",
        "plt.xlabel('Time [Days]', fontsize=15)\n",
        "plt.ylabel('Stock Values', fontsize=15)\n",
        "plt.title('Baseline Model Predictions on HGK20.CXM', fontsize=15)\n",
        "plt.legend(fontsize=15)\n",
        "plt.show()"
      ],
      "execution_count": 0,
      "outputs": []
    },
    {
      "cell_type": "code",
      "metadata": {
        "id": "TmeaLQ1Zd8HC",
        "colab_type": "code",
        "colab": {}
      },
      "source": [
        "plt.figure(figsize=(10, 6))\n",
        "plt.plot(Y_test, color='red', label='actual data')\n",
        "plt.plot(test_Predicts, color='blue', label='test data')\n",
        "plt.xlabel('Time [Days]', fontsize=15)\n",
        "plt.ylabel('Stock Values', fontsize=15)\n",
        "plt.title('Real values vs Prediction values', fontsize=15)\n",
        "plt.legend(fontsize=15)\n",
        "plt.show()"
      ],
      "execution_count": 0,
      "outputs": []
    },
    {
      "cell_type": "code",
      "metadata": {
        "id": "o_zz_D3Zd8NB",
        "colab_type": "code",
        "colab": {}
      },
      "source": [
        ""
      ],
      "execution_count": 0,
      "outputs": []
    },
    {
      "cell_type": "code",
      "metadata": {
        "id": "aODP5bRecAVs",
        "colab_type": "code",
        "colab": {}
      },
      "source": [
        ""
      ],
      "execution_count": 0,
      "outputs": []
    },
    {
      "cell_type": "markdown",
      "metadata": {
        "id": "Uo1RJsu_6AQX",
        "colab_type": "text"
      },
      "source": [
        "## Retro-causal (stateful = false) Model"
      ]
    },
    {
      "cell_type": "code",
      "metadata": {
        "id": "LStElcsTebMB",
        "colab_type": "code",
        "colab": {}
      },
      "source": [
        "model_stateless1 = tf.keras.Sequential([\n",
        "tf.keras.layers.LSTM(64, input_shape=(12, 1), go_backwards=True, stateful=False),\n",
        "tf.keras.layers.Dense(1)])"
      ],
      "execution_count": 0,
      "outputs": []
    },
    {
      "cell_type": "code",
      "metadata": {
        "id": "5WCNljiYf0iV",
        "colab_type": "code",
        "colab": {}
      },
      "source": [
        "model_stateless1.compile(loss = 'mean_squared_error', optimizer='adam')\n",
        "model_stateless1.summary()"
      ],
      "execution_count": 0,
      "outputs": []
    },
    {
      "cell_type": "code",
      "metadata": {
        "id": "lCwEIfPNebcI",
        "colab_type": "code",
        "colab": {}
      },
      "source": [
        "history = model_stateless1.fit(X_train, y_train, epochs=100, batch_size=1, verbose = 1, validation_data=(X_test, Y_test), shuffle=False)"
      ],
      "execution_count": 0,
      "outputs": []
    },
    {
      "cell_type": "code",
      "metadata": {
        "id": "hR3WkFtAebkO",
        "colab_type": "code",
        "colab": {}
      },
      "source": [
        "batch_size=1\n",
        "train_Score = model_stateless1.evaluate(X_train, y_train, batch_size=batch_size, verbose=1)\n",
        "model_stateless1.reset_states()\n",
        "train_Score = math.sqrt(train_Score)\n",
        "train_Score = sc.inverse_transform(np.array([[train_Score]]))"
      ],
      "execution_count": 0,
      "outputs": []
    },
    {
      "cell_type": "code",
      "metadata": {
        "id": "b-9NO52JgpW3",
        "colab_type": "code",
        "colab": {}
      },
      "source": [
        "test_Score = model_stateless1.evaluate(X_test, Y_test, batch_size=batch_size, verbose=1)\n",
        "model_stateless1.reset_states()\n",
        "test_Score = math.sqrt(test_Score)\n",
        "test_Score = sc.inverse_transform(np.array([[test_Score]]))"
      ],
      "execution_count": 0,
      "outputs": []
    },
    {
      "cell_type": "code",
      "metadata": {
        "id": "9-XaN-gFgyjE",
        "colab_type": "code",
        "colab": {}
      },
      "source": [
        "print('This is the train_Score:',train_Score)\n",
        "print('This is the test_Score:', test_Score)"
      ],
      "execution_count": 0,
      "outputs": []
    },
    {
      "cell_type": "code",
      "metadata": {
        "id": "C4NJsJmgecUa",
        "colab_type": "code",
        "colab": {}
      },
      "source": [
        "# generate predictions for training and testing\n",
        "train_Predict_2 = model_stateless1.predict(X_train, batch_size=1)\n",
        "test_Predict_2 = model_stateless1.predict(X_test, batch_size=1)"
      ],
      "execution_count": 0,
      "outputs": []
    },
    {
      "cell_type": "code",
      "metadata": {
        "id": "rdIqvgIfoWTI",
        "colab_type": "code",
        "colab": {}
      },
      "source": [
        "mse = mean_squared_error(Y_test, test_Predict_2)\n",
        "RMSE = np.sqrt(mse)\n",
        "mae = mean_absolute_error(Y_test, test_Predict_2)\n",
        "\n",
        "print('The Mean Squared Error is: ', mse)\n",
        "print\n",
        "print('The Root Mean Squared Error is :', RMSE)\n",
        "print\n",
        "print('The Mean Absolute Error is ', mae)"
      ],
      "execution_count": 0,
      "outputs": []
    },
    {
      "cell_type": "code",
      "metadata": {
        "id": "S8-sp75coXW7",
        "colab_type": "code",
        "colab": {}
      },
      "source": [
        "test_Predict_2"
      ],
      "execution_count": 0,
      "outputs": []
    },
    {
      "cell_type": "code",
      "metadata": {
        "id": "aKgPfvSheccR",
        "colab_type": "code",
        "colab": {}
      },
      "source": [
        "# Shifting train predictions for plotting\n",
        "train_Plot_2 = np.empty_like(data)\n",
        "train_Plot_2[:, :] = np.nan\n",
        "train_Plot_2[look_back:len(train_Predict_2)+look_back, :] = train_Predict_2"
      ],
      "execution_count": 0,
      "outputs": []
    },
    {
      "cell_type": "code",
      "metadata": {
        "id": "ma23h6Q7ebg2",
        "colab_type": "code",
        "colab": {}
      },
      "source": [
        "# Shifting test predictions for plotting\n",
        "test_Plot_2 = np.empty_like(data)\n",
        "test_Plot_2[:, :] = np.nan\n",
        "test_Plot_2[len(train_Predict_2)+(look_back*2)+1:len(data)-1, :] = test_Predict_2"
      ],
      "execution_count": 0,
      "outputs": []
    },
    {
      "cell_type": "code",
      "metadata": {
        "id": "AhQbFM55ebXk",
        "colab_type": "code",
        "colab": {}
      },
      "source": [
        "plt.figure(figsize=(10, 6))\n",
        "plt.plot(data, color='red', label='actual data')\n",
        "plt.plot(train_Plot_2, color='blue', linestyle=\"-\", label='train data')\n",
        "plt.plot(test_Plot_2, color='green', linestyle=\"-\", label='test data')\n",
        "plt.xlabel('Time [Days]', fontsize=15)\n",
        "plt.ylabel('Stock Values', fontsize=15)\n",
        "plt.title('Baseline Model Predictions on HGK20.CXM', fontsize=15)\n",
        "plt.legend(fontsize=15)\n",
        "plt.show()"
      ],
      "execution_count": 0,
      "outputs": []
    },
    {
      "cell_type": "code",
      "metadata": {
        "id": "CDbfD4kNebUc",
        "colab_type": "code",
        "colab": {}
      },
      "source": [
        "plt.figure(figsize=(10, 6))\n",
        "plt.plot(Y_test, color='red', label='actual data')\n",
        "plt.plot(test_Predict_2, color='blue', label='test data')\n",
        "plt.xlabel('Time [Days]', fontsize=15)\n",
        "plt.ylabel('Stock Values', fontsize=15)\n",
        "plt.title('Real values vs Prediction values', fontsize=15)\n",
        "plt.legend(fontsize=15)\n",
        "plt.show()"
      ],
      "execution_count": 0,
      "outputs": []
    },
    {
      "cell_type": "code",
      "metadata": {
        "id": "4SoETuL4ebQ8",
        "colab_type": "code",
        "colab": {}
      },
      "source": [
        ""
      ],
      "execution_count": 0,
      "outputs": []
    },
    {
      "cell_type": "markdown",
      "metadata": {
        "id": "SxR3ijyxtqpB",
        "colab_type": "text"
      },
      "source": [
        "## Bidirectional LSTM Model"
      ]
    },
    {
      "cell_type": "code",
      "metadata": {
        "id": "IGEj4JTmJrxu",
        "colab_type": "code",
        "colab": {}
      },
      "source": [
        "from keras.layers import Bidirectional\n",
        "model_bi = tf.keras.Sequential()\n",
        "model_bi.add(layers.Bidirectional(layers.LSTM(64, input_shape=(12,1)))),\n",
        "model_bi.add(layers.Dense(1))"
      ],
      "execution_count": 0,
      "outputs": []
    },
    {
      "cell_type": "code",
      "metadata": {
        "id": "X4THq3gSMHAP",
        "colab_type": "code",
        "colab": {}
      },
      "source": [
        "model_bi.compile(loss = 'mean_squared_error', optimizer='adam')"
      ],
      "execution_count": 0,
      "outputs": []
    },
    {
      "cell_type": "code",
      "metadata": {
        "id": "0W5491reMPhO",
        "colab_type": "code",
        "colab": {}
      },
      "source": [
        "history = model_bi.fit(X_train, y_train, epochs=100, batch_size=1, verbose = 1, validation_data=(X_test, Y_test), shuffle=False)\n",
        "model_bi.reset_states()"
      ],
      "execution_count": 0,
      "outputs": []
    },
    {
      "cell_type": "code",
      "metadata": {
        "id": "_EVqXeInMg_m",
        "colab_type": "code",
        "colab": {}
      },
      "source": [
        "model_bi.summary()"
      ],
      "execution_count": 0,
      "outputs": []
    },
    {
      "cell_type": "code",
      "metadata": {
        "id": "aA-GNSSpM0ev",
        "colab_type": "code",
        "colab": {}
      },
      "source": [
        "plt.figure(figsize=(10, 6))\n",
        "plt.plot(history.history['loss'], color='blue', label='train loss')\n",
        "plt.title('Model Loss')\n",
        "plt.ylabel('Mean Squared Error')\n",
        "plt.xlabel('Epoch')\n",
        "plt.show()"
      ],
      "execution_count": 0,
      "outputs": []
    },
    {
      "cell_type": "code",
      "metadata": {
        "id": "qMk3_mtv45oN",
        "colab_type": "code",
        "colab": {}
      },
      "source": [
        ""
      ],
      "execution_count": 0,
      "outputs": []
    },
    {
      "cell_type": "code",
      "metadata": {
        "id": "4YTrde0Y45tp",
        "colab_type": "code",
        "colab": {}
      },
      "source": [
        "batch_size=1\n",
        "train_Score = model_bi.evaluate(X_train, y_train, batch_size=batch_size, verbose=0)\n",
        "model_bi.reset_states()\n",
        "train_Score = math.sqrt(train_Score)\n",
        "train_Score = sc.inverse_transform(np.array([[train_Score]]))\n",
        "\n",
        "test_Score = model_bi.evaluate(X_test, Y_test, batch_size=batch_size, verbose=0)\n",
        "model_bi.reset_states()\n",
        "test_Score = math.sqrt(test_Score)\n",
        "test_Score = sc.inverse_transform(np.array([[test_Score]]))"
      ],
      "execution_count": 0,
      "outputs": []
    },
    {
      "cell_type": "code",
      "metadata": {
        "id": "0-QgkQf546A3",
        "colab_type": "code",
        "colab": {}
      },
      "source": [
        "print('This is the train_Score:',train_Score)\n",
        "print('This is the test_Score:', test_Score)"
      ],
      "execution_count": 0,
      "outputs": []
    },
    {
      "cell_type": "code",
      "metadata": {
        "id": "E-5rJMGeNB5L",
        "colab_type": "code",
        "colab": {}
      },
      "source": [
        "# generate predictions for training and testing\n",
        "train_Predict_bi = model_bi.predict(X_train, batch_size=1)\n",
        "test_Predict_bi = model_bi.predict(X_test, batch_size=1)"
      ],
      "execution_count": 0,
      "outputs": []
    },
    {
      "cell_type": "code",
      "metadata": {
        "id": "LuV9ot6cNoo2",
        "colab_type": "code",
        "colab": {}
      },
      "source": [
        "mse = mean_squared_error(Y_test, test_Predict_bi)\n",
        "RMSE = np.sqrt(mse)\n",
        "mae = mean_absolute_error(Y_test, test_Predict_bi)\n",
        "\n",
        "print('The Mean Squared Error is: ', mse)\n",
        "print\n",
        "print('The Root Mean Squared Error is :', RMSE)\n",
        "print\n",
        "print('The Mean Absolute Error is ', mae)"
      ],
      "execution_count": 0,
      "outputs": []
    },
    {
      "cell_type": "code",
      "metadata": {
        "id": "E2fmVdef-U0V",
        "colab_type": "code",
        "colab": {}
      },
      "source": [
        "test_Predict_bi"
      ],
      "execution_count": 0,
      "outputs": []
    },
    {
      "cell_type": "code",
      "metadata": {
        "id": "i35FiDjwNwRw",
        "colab_type": "code",
        "colab": {}
      },
      "source": [
        "# Shifting train predictions for plotting\n",
        "train_Plot_bi = np.empty_like(data)\n",
        "train_Plot_bi[:, :] = np.nan\n",
        "train_Plot_bi[look_back:len(train_Predict_bi)+look_back, :] = train_Predict_bi"
      ],
      "execution_count": 0,
      "outputs": []
    },
    {
      "cell_type": "code",
      "metadata": {
        "id": "GHw2O0UpN2Wk",
        "colab_type": "code",
        "colab": {}
      },
      "source": [
        "# Shifting test predictions for plotting\n",
        "test_Plot_bi = np.empty_like(data)\n",
        "test_Plot_bi[:, :] = np.nan\n",
        "test_Plot_bi[len(train_Predict_bi)+(look_back*2)+1:len(data)-1, :] = test_Predict_bi"
      ],
      "execution_count": 0,
      "outputs": []
    },
    {
      "cell_type": "code",
      "metadata": {
        "id": "FBxeQgqaN6uc",
        "colab_type": "code",
        "colab": {}
      },
      "source": [
        "plt.figure(figsize=(10, 6))\n",
        "plt.plot(data, color='red', label='actual data')\n",
        "plt.plot(train_Plot_bi, color='blue', linestyle=\"-\", label='train data')\n",
        "plt.plot(test_Plot_bi, color='green', linestyle=\"-\", label='test data')\n",
        "plt.xlabel('Time [Days]', fontsize=15)\n",
        "plt.ylabel('Stock Values', fontsize=15)\n",
        "plt.title('Baseline Model Predictions on HGK20.CXM', fontsize=15)\n",
        "plt.legend(fontsize=15)\n",
        "plt.show()"
      ],
      "execution_count": 0,
      "outputs": []
    },
    {
      "cell_type": "code",
      "metadata": {
        "id": "YEStyOH9OBcp",
        "colab_type": "code",
        "colab": {}
      },
      "source": [
        "plt.figure(figsize=(10, 6))\n",
        "plt.plot(Y_test, color='red', label='actual data')\n",
        "plt.plot(test_Predict_bi, color='blue', label='test data')\n",
        "plt.xlabel('Time [Days]', fontsize=15)\n",
        "plt.ylabel('Stock Values', fontsize=15)\n",
        "plt.title('Real values vs Prediction values', fontsize=15)\n",
        "plt.legend(fontsize=15)\n",
        "plt.show()"
      ],
      "execution_count": 0,
      "outputs": []
    },
    {
      "cell_type": "code",
      "metadata": {
        "id": "IlEnOi-DPlEl",
        "colab_type": "code",
        "colab": {}
      },
      "source": [
        "plt.figure(figsize=(10, 6))\n",
        "plt.plot(Y_test, color='red', label='actual data')\n",
        "plt.plot(test_Predict, color='blue', linestyle=\"-\", label='stateful=true')\n",
        "plt.plot(test_Predict1, color='yellow', linestyle=\"-\", label='stateful=false')\n",
        "plt.plot(test_Predicts, color='orange', linestyle=\"-\", label='stateful1=true')\n",
        "plt.plot(test_Predict_2, color='violet', linestyle=\"-\", label='stateful1=false')\n",
        "plt.plot(test_Predict_bi, color='green', linestyle=\"-\", label='bidirectional')\n",
        "plt.xlabel('Time [Days]', fontsize=15)\n",
        "plt.ylabel('Stock Values', fontsize=15)\n",
        "plt.title('Real values vs Prediction values', fontsize=15)\n",
        "plt.legend(fontsize=15)\n",
        "plt.show()"
      ],
      "execution_count": 0,
      "outputs": []
    },
    {
      "cell_type": "code",
      "metadata": {
        "id": "yNlKd_yua0uD",
        "colab_type": "code",
        "colab": {}
      },
      "source": [
        ""
      ],
      "execution_count": 0,
      "outputs": []
    }
  ]
}